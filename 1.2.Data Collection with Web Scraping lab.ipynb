{
 "cells": [
  {
   "cell_type": "markdown",
   "id": "016c7b40-5124-4a11-927c-d3b5ac1e98ef",
   "metadata": {},
   "source": [
    "## Space X Falcon 9 First Stage Landing Prediction"
   ]
  },
  {
   "cell_type": "markdown",
   "id": "3358a341-cfcf-4e6b-ad26-8fa8020d2ee7",
   "metadata": {},
   "source": [
    "### Web scraping Falcon 9 and Falcon Heavy Launches Records from Wikipedia"
   ]
  },
  {
   "cell_type": "markdown",
   "id": "da8750ec-81c3-4e39-ae2f-8132fa67ba0d",
   "metadata": {},
   "source": [
    "In this lab, we will be performing web scraping to collect Falcon 9 historical launch records from a Wikipedia page titled `List of Falcon 9 and Falcon Heavy launches`\n",
    "\n",
    "https://en.wikipedia.org/wiki/List_of_Falcon_9_and_Falcon_Heavy_launches\n"
   ]
  },
  {
   "cell_type": "markdown",
   "id": "f0e77d0f-e740-47c7-bce8-78eba19ba6c4",
   "metadata": {},
   "source": [
    "![](https://cf-courses-data.s3.us.cloud-object-storage.appdomain.cloud/IBM-DS0321EN-SkillsNetwork/labs/module_1_L2/images/Falcon9_rocket_family.svg)"
   ]
  },
  {
   "cell_type": "markdown",
   "id": "629c442b-b6e0-45c6-acf9-03497350321e",
   "metadata": {},
   "source": [
    "Falcon 9 first stage will land successfully"
   ]
  },
  {
   "cell_type": "markdown",
   "id": "455db665-47e9-4518-bcea-40371e8cc08b",
   "metadata": {},
   "source": [
    "![](https://cf-courses-data.s3.us.cloud-object-storage.appdomain.cloud/IBMDeveloperSkillsNetwork-DS0701EN-SkillsNetwork/api/Images/landing_1.gif)\n"
   ]
  },
  {
   "cell_type": "markdown",
   "id": "2437d108-270d-4b75-b4b5-efe9def72d7d",
   "metadata": {},
   "source": [
    "Several examples of an unsuccessful landing are shown here:\n"
   ]
  },
  {
   "cell_type": "markdown",
   "id": "9979c30c-654f-46d7-b09a-1ef9ae37c34a",
   "metadata": {},
   "source": [
    "![](https://cf-courses-data.s3.us.cloud-object-storage.appdomain.cloud/IBMDeveloperSkillsNetwork-DS0701EN-SkillsNetwork/api/Images/crash.gif)\n"
   ]
  },
  {
   "cell_type": "markdown",
   "id": "da23c40f-d24e-42fe-845f-9e3fc30b5bdd",
   "metadata": {},
   "source": [
    "More specifically, the launch records are stored in a HTML table shown below:"
   ]
  },
  {
   "cell_type": "markdown",
   "id": "65977e6e-0855-4ffa-9a82-c87ee541fae7",
   "metadata": {},
   "source": [
    "![](https://cf-courses-data.s3.us.cloud-object-storage.appdomain.cloud/IBM-DS0321EN-SkillsNetwork/labs/module_1_L2/images/falcon9-launches-wiki.png)"
   ]
  },
  {
   "cell_type": "markdown",
   "id": "3cd6481f-53ad-464b-8773-15f9c95e6b3d",
   "metadata": {},
   "source": [
    "### Objectives\n",
    "Web scrap Falcon 9 launch records with `BeautifulSoup`: \n",
    "- Extract a Falcon 9 launch records HTML table from Wikipedia\n",
    "- Parse the table and convert it into a Pandas data frame\n"
   ]
  },
  {
   "cell_type": "code",
   "execution_count": 19,
   "id": "6f8749e7-a1d9-4a08-8571-8794a82bfc1d",
   "metadata": {},
   "outputs": [],
   "source": [
    "import pandas as pd\n",
    "import requests\n",
    "import re\n",
    "from bs4 import BeautifulSoup\n",
    "import unicodedata"
   ]
  },
  {
   "cell_type": "markdown",
   "id": "f4311923-839f-479a-b52f-b440b1d189d6",
   "metadata": {},
   "source": [
    "and we will provide some helper functions for you to process web scraped HTML table"
   ]
  },
  {
   "cell_type": "code",
   "execution_count": 2,
   "id": "3ce18a38-082c-416a-8512-f0c5cbcfa1b3",
   "metadata": {},
   "outputs": [],
   "source": [
    "def date_time(table_cells):\n",
    "    \"\"\"\n",
    "    This function returns the data and time from the HTML  table cell\n",
    "    Input: the  element of a table data cell extracts extra row\n",
    "    \"\"\"\n",
    "    return [data_time.strip() for data_time in list(table_cells.strings)][0:2]\n",
    "\n",
    "def booster_version(table_cells):\n",
    "    \"\"\"\n",
    "    This function returns the booster version from the HTML  table cell \n",
    "    Input: the  element of a table data cell extracts extra row\n",
    "    \"\"\"\n",
    "    out=''.join([booster_version for i,booster_version in enumerate( table_cells.strings) if i%2==0][0:-1])\n",
    "    return out\n",
    "\n",
    "def landing_status(table_cells):\n",
    "    \"\"\"\n",
    "    This function returns the landing status from the HTML table cell \n",
    "    Input: the  element of a table data cell extracts extra row\n",
    "    \"\"\"\n",
    "    out=[i for i in table_cells.strings][0]\n",
    "    return out\n",
    "\n",
    "\n",
    "def get_mass(table_cells):\n",
    "    mass=unicodedata.normalize(\"NFKD\", table_cells.text).strip()\n",
    "    if mass:\n",
    "        mass.find(\"kg\")\n",
    "        new_mass=mass[0:mass.find(\"kg\")+2]\n",
    "    else:\n",
    "        new_mass=0\n",
    "    return new_mass\n",
    "\n",
    "\n",
    "def extract_column_from_header(row):\n",
    "    \"\"\"\n",
    "    This function returns the landing status from the HTML table cell \n",
    "    Input: the  element of a table data cell extracts extra row\n",
    "    \"\"\"\n",
    "    if (row.br):\n",
    "        row.br.extract()\n",
    "    if row.a:\n",
    "        row.a.extract()\n",
    "    if row.sup:\n",
    "        row.sup.extract()\n",
    "        \n",
    "    colunm_name = ' '.join(row.contents)\n",
    "    \n",
    "    # Filter the digit and empty names\n",
    "    if not(colunm_name.strip().isdigit()):\n",
    "        colunm_name = colunm_name.strip()\n",
    "        return colunm_name"
   ]
  },
  {
   "cell_type": "code",
   "execution_count": 3,
   "id": "deb23873-2f07-4961-b876-5430aa66e584",
   "metadata": {},
   "outputs": [],
   "source": [
    "static_url = \"https://en.wikipedia.org/w/index.php?title=List_of_Falcon_9_and_Falcon_Heavy_launches&oldid=1027686922\""
   ]
  },
  {
   "cell_type": "markdown",
   "id": "690a6bff-aebb-48b0-b026-e1e25a73136a",
   "metadata": {},
   "source": [
    "Next, request the HTML page from the above URL and get a `response` object\n"
   ]
  },
  {
   "cell_type": "markdown",
   "id": "2db42c94-b0de-47f1-b235-1035ed8e79f3",
   "metadata": {},
   "source": [
    "### TASK 1: Request the Falcon9 Launch Wiki page from its URL"
   ]
  },
  {
   "cell_type": "markdown",
   "id": "c524b028-a981-43db-bc37-7c2785c1bffa",
   "metadata": {},
   "source": [
    "First, let's perform an HTTP GET method to request the Falcon9 Launch HTML page, as an HTTP response."
   ]
  },
  {
   "cell_type": "code",
   "execution_count": 4,
   "id": "7be685f6-975d-4523-9490-b1e7ce0ac173",
   "metadata": {},
   "outputs": [],
   "source": [
    "response = requests.get(static_url)"
   ]
  },
  {
   "cell_type": "markdown",
   "id": "a3737d73-d0d9-44d9-be13-ad55ba59b0ab",
   "metadata": {},
   "source": [
    "Create a `BeautifulSoup` object from the HTML `response`"
   ]
  },
  {
   "cell_type": "code",
   "execution_count": 5,
   "id": "e05e1e87-19dc-4f1e-8e66-47c001ed993f",
   "metadata": {},
   "outputs": [],
   "source": [
    "soup = BeautifulSoup(response.content, 'html.parser')"
   ]
  },
  {
   "cell_type": "markdown",
   "id": "efb6a40f-03fc-48f5-addd-9bc3b7cac344",
   "metadata": {},
   "source": [
    "Print the page title to verify if the `BeautifulSoup` object was created properly \n"
   ]
  },
  {
   "cell_type": "code",
   "execution_count": 6,
   "id": "785beb51-1a00-42ed-bde1-929a9de7318a",
   "metadata": {},
   "outputs": [
    {
     "data": {
      "text/plain": [
       "<title>List of Falcon 9 and Falcon Heavy launches - Wikipedia</title>"
      ]
     },
     "execution_count": 6,
     "metadata": {},
     "output_type": "execute_result"
    }
   ],
   "source": [
    "soup.title"
   ]
  },
  {
   "cell_type": "markdown",
   "id": "2ea73230-63ac-40c2-9a10-4bec7d54aa06",
   "metadata": {},
   "source": [
    "### TASK 2: Extract all column/variable names from the HTML table header\n",
    "Next, we want to collect all relevant column names from the HTML table header\n",
    "\n",
    "Let's try to find all tables on the wiki page first."
   ]
  },
  {
   "cell_type": "code",
   "execution_count": 7,
   "id": "017b9f16-729f-4b64-8270-1c26459e8a21",
   "metadata": {},
   "outputs": [],
   "source": [
    "html_table = soup.find_all('table')"
   ]
  },
  {
   "cell_type": "markdown",
   "id": "13f33c24-887d-4f56-a351-ed193d742071",
   "metadata": {},
   "source": [
    "Starting from the third table is our target table contains the actual launch records."
   ]
  },
  {
   "cell_type": "code",
   "execution_count": 13,
   "id": "2d81cea6-bb86-4333-b6e8-ed98a6421c75",
   "metadata": {},
   "outputs": [],
   "source": [
    "target_table = html_table[2]\n",
    "\n",
    "# print(target_table.prettify()) - can check all table in html format from this"
   ]
  },
  {
   "cell_type": "markdown",
   "id": "51084a4e-05e9-4859-b861-09ea82840f43",
   "metadata": {},
   "source": [
    "You should able to see the columns names embedded in the table header elements `<th>` as follows:\r\n",
    "```\r\n",
    "<tr>\r\n",
    "<th scope=\"col\">Flight No.\r\n",
    "</th>\r\n",
    "<th scope=\"col\">Date and<br/>time (<a href=\"/wiki/Coordinated_Universal_Time\" title=\"Coordinated Universal Time\">UTC</a>)\r\n",
    "</th>\r\n",
    "<th scope=\"col\"><a href=\"/wiki/List_of_Falcon_9_first-stage_boosters\" title=\"List of Falcon 9 first-stage boosters\">Version,<br/>Booster</a> <sup class=\"reference\" id=\"cite_ref-booster_11-0\"><a href=\"#cite_note-booster-11\">[b]</a></sup>\r\n",
    "</th>\r\n",
    "<th scope=\"col\">Launch site\r\n",
    "</th>\r\n",
    "<th scope=\"col\">Payload<sup class=\"reference\" id=\"cite_ref-Dragon_12-0\"><a href=\"#cite_note-Dragon-12\">[c]</a></sup>\r\n",
    "</th>\r\n",
    "<th scope=\"col\">Payload mass\r\n",
    "</th>\r\n",
    "<th scope=\"col\">Orbit\r\n",
    "</th>\r\n",
    "<th scope=\"col\">Customer\r\n",
    "</th>\r\n",
    "<th scope=\"col\">Launch<br/>outcome\r\n",
    "</th>\r\n",
    "<th scope=\"col\"><a href=\"/wiki/Falcon_9_first-stage_landing_tests\" title=\"Falcon 9 first-stage landing tests\">Booster<br/>landing</a>\r\n",
    "</th></tr>\r\n",
    "```\r\n",
    "\n"
   ]
  },
  {
   "cell_type": "markdown",
   "id": "92e3db23-125b-4259-9906-5857639bebaa",
   "metadata": {},
   "source": [
    "Next, we just need to iterate through the `<th>` elements and apply the provided `extract_column_from_header()` to extract column name one by one\n"
   ]
  },
  {
   "cell_type": "code",
   "execution_count": 15,
   "id": "6df415bb-dcbc-48c3-93b3-306fadda17f9",
   "metadata": {},
   "outputs": [],
   "source": [
    "column_names = []\n",
    "\n",
    "for th_element in target_table.find_all('th'):\n",
    "    column_name = extract_column_from_header(th_element)\n",
    "    if column_name:\n",
    "        column_names.append(column_name)"
   ]
  },
  {
   "cell_type": "code",
   "execution_count": 16,
   "id": "1bd2da7f-5ba7-4a88-9a67-ff66c45cabf7",
   "metadata": {},
   "outputs": [
    {
     "data": {
      "text/plain": [
       "['Flight No.',\n",
       " 'Date and time ( )',\n",
       " 'Launch site',\n",
       " 'Payload',\n",
       " 'Payload mass',\n",
       " 'Orbit',\n",
       " 'Customer',\n",
       " 'Launch outcome']"
      ]
     },
     "execution_count": 16,
     "metadata": {},
     "output_type": "execute_result"
    }
   ],
   "source": [
    "column_names"
   ]
  },
  {
   "cell_type": "markdown",
   "id": "fac43892-3947-4c85-9032-6bebc83ed8d6",
   "metadata": {},
   "source": [
    "### TASK 3: Create a data frame by parsing the launch HTML tables\n",
    "We will create an empty dictionary with keys from the extracted column names in the previous task. Later, this dictionary will be converted into a Pandas dataframe"
   ]
  },
  {
   "cell_type": "code",
   "execution_count": 17,
   "id": "963a9657-ca0c-44cb-8177-67592f820e6c",
   "metadata": {},
   "outputs": [],
   "source": [
    "launch_dict= dict.fromkeys(column_names)\n",
    "\n",
    "# Remove an irrelvant column\n",
    "del launch_dict['Date and time ( )']\n",
    "\n",
    "# Let's initial the launch_dict with each value to be an empty list\n",
    "launch_dict['Flight No.'] = []\n",
    "launch_dict['Launch site'] = []\n",
    "launch_dict['Payload'] = []\n",
    "launch_dict['Payload mass'] = []\n",
    "launch_dict['Orbit'] = []\n",
    "launch_dict['Customer'] = []\n",
    "launch_dict['Launch outcome'] = []\n",
    "# Added some new columns\n",
    "launch_dict['Version Booster']=[]\n",
    "launch_dict['Booster landing']=[]\n",
    "launch_dict['Date']=[]\n",
    "launch_dict['Time']=[]"
   ]
  },
  {
   "cell_type": "markdown",
   "id": "a5152736-75a8-418f-a4c4-d18a8f905dc1",
   "metadata": {},
   "source": [
    "Next, we just need to fill up the `launch_dict` with launch records extracted from table rows.\n",
    "\n",
    "Usually, HTML tables in Wiki pages are likely to contain unexpected annotations and other types of noises, such as reference links `B0004.1[8]`, missing values `N/A [e]`, inconsistent formatting, etc.\n",
    "\n",
    "To simplify the parsing process, we have provided an incomplete code snippet below to help you to fill up the `launch_dict`. Please complete the following code snippet with TODOs or you can choose to write your own logic to parse all launch tables:\n"
   ]
  },
  {
   "cell_type": "code",
   "execution_count": 20,
   "id": "a72a6677-d2c3-4a38-8abb-f9cf9f81a458",
   "metadata": {},
   "outputs": [],
   "source": [
    "launch_dict = dict.fromkeys(column_names)\n",
    "\n",
    "# Remove an irrelevant column\n",
    "del launch_dict['Date and time ( )']\n",
    "\n",
    "# Let's initialize the launch_dict with each value to be an empty list\n",
    "launch_dict['Flight No.'] = []\n",
    "launch_dict['Launch site'] = []\n",
    "launch_dict['Payload'] = []\n",
    "launch_dict['Payload mass'] = []\n",
    "launch_dict['Orbit'] = []\n",
    "launch_dict['Customer'] = []\n",
    "launch_dict['Launch outcome'] = []\n",
    "launch_dict['Version Booster'] = []\n",
    "launch_dict['Booster landing'] = []\n",
    "launch_dict['Date'] = []\n",
    "launch_dict['Time'] = []\n",
    "\n",
    "# Extract each table\n",
    "for table_number, table in enumerate(soup.find_all('table', \"wikitable plainrowheaders collapsible\")):\n",
    "    # get table row\n",
    "    for rows in table.find_all(\"tr\"):\n",
    "        # check to see if first table heading is a number corresponding to launch a number\n",
    "        if rows.th:\n",
    "            if rows.th.string:\n",
    "                flight_number = rows.th.string.strip()\n",
    "                flag = flight_number.isdigit()\n",
    "        else:\n",
    "            flag = False\n",
    "        # get table element\n",
    "        row = rows.find_all('td')\n",
    "        # if it is a number save cells in a dictionary\n",
    "        if flag:\n",
    "            # Flight Number value\n",
    "            launch_dict['Flight No.'].append(flight_number)\n",
    "            \n",
    "            datatimelist = date_time(row[0])\n",
    "            \n",
    "            # Date value\n",
    "            date = datatimelist[0].strip(',')\n",
    "            launch_dict['Date'].append(date)\n",
    "            \n",
    "            # Time value\n",
    "            time = datatimelist[1]\n",
    "            launch_dict['Time'].append(time)\n",
    "            \n",
    "            # Booster version\n",
    "            bv = booster_version(row[1])\n",
    "            if not bv:\n",
    "                bv = row[1].a.string\n",
    "            launch_dict['Version Booster'].append(bv)\n",
    "            \n",
    "            # Launch Site\n",
    "            launch_site_element = row[2].a\n",
    "            launch_site = launch_site_element.string if launch_site_element else \"\"\n",
    "            launch_dict['Launch site'].append(launch_site)\n",
    "            \n",
    "            # Payload\n",
    "            payload_element = row[3].a\n",
    "            payload = payload_element.string if payload_element else \"\"\n",
    "            launch_dict['Payload'].append(payload)\n",
    "            \n",
    "            # Payload Mass\n",
    "            payload_mass = get_mass(row[4])\n",
    "            launch_dict['Payload mass'].append(payload_mass)\n",
    "            \n",
    "            # Orbit\n",
    "            orbit_element = row[5].a\n",
    "            orbit = orbit_element.string if orbit_element else \"\"\n",
    "            launch_dict['Orbit'].append(orbit)\n",
    "            \n",
    "            # Customer\n",
    "            customer_element = row[6].a\n",
    "            customer = customer_element.string if customer_element else \"\"\n",
    "            launch_dict['Customer'].append(customer)\n",
    "            \n",
    "            # Launch outcome\n",
    "            launch_outcome = list(row[7].strings)[0]\n",
    "            launch_dict['Launch outcome'].append(launch_outcome)\n",
    "            \n",
    "            # Booster landing\n",
    "            booster_landing = landing_status(row[8])\n",
    "            launch_dict['Booster landing'].append(booster_landing)"
   ]
  },
  {
   "cell_type": "markdown",
   "id": "e2853c31-ea32-4352-870a-54186904ab44",
   "metadata": {},
   "source": [
    "After we have fill in the parsed launch record values into launch_dict, you can create a dataframe from it."
   ]
  },
  {
   "cell_type": "code",
   "execution_count": 21,
   "id": "6439c155-4a31-4d4b-af98-6d801369fa74",
   "metadata": {},
   "outputs": [
    {
     "data": {
      "text/html": [
       "<div>\n",
       "<style scoped>\n",
       "    .dataframe tbody tr th:only-of-type {\n",
       "        vertical-align: middle;\n",
       "    }\n",
       "\n",
       "    .dataframe tbody tr th {\n",
       "        vertical-align: top;\n",
       "    }\n",
       "\n",
       "    .dataframe thead th {\n",
       "        text-align: right;\n",
       "    }\n",
       "</style>\n",
       "<table border=\"1\" class=\"dataframe\">\n",
       "  <thead>\n",
       "    <tr style=\"text-align: right;\">\n",
       "      <th></th>\n",
       "      <th>Flight No.</th>\n",
       "      <th>Launch site</th>\n",
       "      <th>Payload</th>\n",
       "      <th>Payload mass</th>\n",
       "      <th>Orbit</th>\n",
       "      <th>Customer</th>\n",
       "      <th>Launch outcome</th>\n",
       "      <th>Version Booster</th>\n",
       "      <th>Booster landing</th>\n",
       "      <th>Date</th>\n",
       "      <th>Time</th>\n",
       "    </tr>\n",
       "  </thead>\n",
       "  <tbody>\n",
       "    <tr>\n",
       "      <th>0</th>\n",
       "      <td>1</td>\n",
       "      <td>CCAFS</td>\n",
       "      <td>Dragon Spacecraft Qualification Unit</td>\n",
       "      <td>0</td>\n",
       "      <td>LEO</td>\n",
       "      <td>SpaceX</td>\n",
       "      <td>Success\\n</td>\n",
       "      <td>F9 v1.0B0003.1</td>\n",
       "      <td>Failure</td>\n",
       "      <td>4 June 2010</td>\n",
       "      <td>18:45</td>\n",
       "    </tr>\n",
       "    <tr>\n",
       "      <th>1</th>\n",
       "      <td>2</td>\n",
       "      <td>CCAFS</td>\n",
       "      <td>Dragon</td>\n",
       "      <td>0</td>\n",
       "      <td>LEO</td>\n",
       "      <td>NASA</td>\n",
       "      <td>Success</td>\n",
       "      <td>F9 v1.0B0004.1</td>\n",
       "      <td>Failure</td>\n",
       "      <td>8 December 2010</td>\n",
       "      <td>15:43</td>\n",
       "    </tr>\n",
       "    <tr>\n",
       "      <th>2</th>\n",
       "      <td>3</td>\n",
       "      <td>CCAFS</td>\n",
       "      <td>Dragon</td>\n",
       "      <td>525 kg</td>\n",
       "      <td>LEO</td>\n",
       "      <td>NASA</td>\n",
       "      <td>Success</td>\n",
       "      <td>F9 v1.0B0005.1</td>\n",
       "      <td>Not attempted\\n</td>\n",
       "      <td>22 May 2012</td>\n",
       "      <td>07:44</td>\n",
       "    </tr>\n",
       "    <tr>\n",
       "      <th>3</th>\n",
       "      <td>4</td>\n",
       "      <td>CCAFS</td>\n",
       "      <td>SpaceX CRS-1</td>\n",
       "      <td>4,700 kg</td>\n",
       "      <td>LEO</td>\n",
       "      <td>NASA</td>\n",
       "      <td>Success\\n</td>\n",
       "      <td>F9 v1.0B0006.1</td>\n",
       "      <td>No attempt</td>\n",
       "      <td>8 October 2012</td>\n",
       "      <td>00:35</td>\n",
       "    </tr>\n",
       "    <tr>\n",
       "      <th>4</th>\n",
       "      <td>5</td>\n",
       "      <td>CCAFS</td>\n",
       "      <td>SpaceX CRS-2</td>\n",
       "      <td>4,877 kg</td>\n",
       "      <td>LEO</td>\n",
       "      <td>NASA</td>\n",
       "      <td>Success\\n</td>\n",
       "      <td>F9 v1.0B0007.1</td>\n",
       "      <td>Not attempted\\n</td>\n",
       "      <td>1 March 2013</td>\n",
       "      <td>15:10</td>\n",
       "    </tr>\n",
       "  </tbody>\n",
       "</table>\n",
       "</div>"
      ],
      "text/plain": [
       "  Flight No. Launch site                               Payload Payload mass  \\\n",
       "0          1       CCAFS  Dragon Spacecraft Qualification Unit            0   \n",
       "1          2       CCAFS                                Dragon            0   \n",
       "2          3       CCAFS                                Dragon       525 kg   \n",
       "3          4       CCAFS                          SpaceX CRS-1     4,700 kg   \n",
       "4          5       CCAFS                          SpaceX CRS-2     4,877 kg   \n",
       "\n",
       "  Orbit Customer Launch outcome Version Booster  Booster landing  \\\n",
       "0   LEO   SpaceX      Success\\n  F9 v1.0B0003.1          Failure   \n",
       "1   LEO     NASA        Success  F9 v1.0B0004.1          Failure   \n",
       "2   LEO     NASA        Success  F9 v1.0B0005.1  Not attempted\\n   \n",
       "3   LEO     NASA      Success\\n  F9 v1.0B0006.1       No attempt   \n",
       "4   LEO     NASA      Success\\n  F9 v1.0B0007.1  Not attempted\\n   \n",
       "\n",
       "              Date   Time  \n",
       "0      4 June 2010  18:45  \n",
       "1  8 December 2010  15:43  \n",
       "2      22 May 2012  07:44  \n",
       "3   8 October 2012  00:35  \n",
       "4     1 March 2013  15:10  "
      ]
     },
     "execution_count": 21,
     "metadata": {},
     "output_type": "execute_result"
    }
   ],
   "source": [
    "df = pd.DataFrame(launch_dict)\n",
    "df.head()"
   ]
  },
  {
   "cell_type": "markdown",
   "id": "9e8c5b90-8b5b-4481-8c3b-e5128b2d434d",
   "metadata": {},
   "source": [
    "We can now export it to a <b>CSV</b> for the next section, but to make the answers consistent and in case you have difficulties finishing this lab. \n",
    "Following labs will be using a provided dataset to make each lab independent. \n",
    "    \n",
    "<code>df.to_csv('spacex_web_scraped.csv', index=False)</code>"
   ]
  },
  {
   "cell_type": "code",
   "execution_count": 22,
   "id": "fdf13320-d619-43cb-b593-7f096e9cdab7",
   "metadata": {},
   "outputs": [],
   "source": [
    "df.to_csv('spacex_web_scaped.csv', index=False)"
   ]
  },
  {
   "cell_type": "markdown",
   "id": "907ff1d6-1e23-4b25-8244-3d564f57cdbb",
   "metadata": {},
   "source": [
    "### Thank you\n",
    "## Author\n",
    "\n",
    "[Neelesh Chidar](https://www.linkedin.com/in/neeleshchidar37/)\n",
    "\n",
    "####  Special Thanks to IBM Skills Network team for content"
   ]
  }
 ],
 "metadata": {
  "kernelspec": {
   "display_name": "Python 3 (ipykernel)",
   "language": "python",
   "name": "python3"
  },
  "language_info": {
   "codemirror_mode": {
    "name": "ipython",
    "version": 3
   },
   "file_extension": ".py",
   "mimetype": "text/x-python",
   "name": "python",
   "nbconvert_exporter": "python",
   "pygments_lexer": "ipython3",
   "version": "3.11.5"
  }
 },
 "nbformat": 4,
 "nbformat_minor": 5
}
